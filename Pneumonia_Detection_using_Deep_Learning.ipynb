{
  "nbformat": 4,
  "nbformat_minor": 0,
  "metadata": {
    "colab": {
      "provenance": [],
      "gpuType": "T4"
    },
    "kernelspec": {
      "name": "python3",
      "display_name": "Python 3"
    },
    "language_info": {
      "name": "python"
    },
    "accelerator": "GPU"
  },
  "cells": [
    {
      "cell_type": "markdown",
      "source": [
        "# 📂 Pneumonia Detection using Deep Learning\n",
        "\n",
        "## 📋 Project Overview\n",
        "This project focuses on detecting pneumonia from chest X-ray images using a **DenseNet121** convolutional neural network. The project includes dataset download, data preprocessing, model building, training visualization, evaluation, and deployment using **Gradio** for real-time predictions.\n"
      ],
      "metadata": {
        "id": "5M8bNfOH07fy"
      }
    },
    {
      "cell_type": "markdown",
      "source": [
        "## ✅ Cell 1 — Import Required Libraries\n",
        "- Import essential libraries for:\n",
        "  - Data processing: `os`, `numpy`, `matplotlib`\n",
        "  - Deep learning: `tensorflow.keras` with `DenseNet121`\n",
        "  - Dataset download: `kagglehub`\n",
        "  - Visualization: `matplotlib.pyplot`\n",
        "  - Deployment interface: `gradio`"
      ],
      "metadata": {
        "id": "ARVB5fdG09dQ"
      }
    },
    {
      "cell_type": "code",
      "execution_count": 1,
      "metadata": {
        "id": "tS1wlCbcsQbl"
      },
      "outputs": [],
      "source": [
        "import os, shutil, zipfile\n",
        "import numpy as np\n",
        "import tensorflow as tf\n",
        "import kagglehub\n",
        "import matplotlib.pyplot as plt\n",
        "\n",
        "from tensorflow.keras.preprocessing.image import ImageDataGenerator\n",
        "from tensorflow.keras.applications import DenseNet121\n",
        "from tensorflow.keras.layers import GlobalAveragePooling2D, Dense, Dropout, BatchNormalization\n",
        "from tensorflow.keras.models import Model\n",
        "from tensorflow.keras.callbacks import ModelCheckpoint, EarlyStopping, ReduceLROnPlateau\n",
        "\n",
        "import gradio as gr"
      ]
    },
    {
      "cell_type": "markdown",
      "source": [
        "##  Dataset Download and Extraction\n",
        "- Download the **Chest X-Ray Pneumonia** dataset using `kagglehub`.\n",
        "- Automatically extract and organize dataset into required folder structure:\n",
        "  - `/train`\n",
        "  - `/val`\n",
        "  - `/test`\n",
        "- Validates that all necessary directories are present before proceeding.\n"
      ],
      "metadata": {
        "id": "0CCVT5Ht1KUC"
      }
    },
    {
      "cell_type": "code",
      "source": [
        "# Download and extract dataset\n",
        "raw = kagglehub.dataset_download(\"paultimothymooney/chest-xray-pneumonia\")\n",
        "DATA_ROOT = \"/content/data\"\n",
        "TARGET = os.path.join(DATA_ROOT, \"chest_xray\")\n",
        "shutil.rmtree(TARGET, ignore_errors=True)\n",
        "os.makedirs(DATA_ROOT, exist_ok=True)\n",
        "\n",
        "if os.path.isdir(raw):\n",
        "    candidate = os.path.join(raw, \"chest_xray\")\n",
        "    shutil.copytree(candidate if os.path.isdir(candidate) else raw, TARGET)\n",
        "elif raw.endswith(\".zip\"):\n",
        "    with zipfile.ZipFile(raw, \"r\") as z: z.extractall(DATA_ROOT)\n",
        "    extracted = os.path.join(DATA_ROOT, \"chest-xray-pneumonia\", \"chest_xray\")\n",
        "    os.rename(extracted, TARGET)\n",
        "\n",
        "for split in (\"train\", \"val\", \"test\"):\n",
        "    path = os.path.join(TARGET, split)\n",
        "    assert os.path.isdir(path), f\"Missing folder: {path}\"\n"
      ],
      "metadata": {
        "id": "jY2XyVNHsV9M"
      },
      "execution_count": 2,
      "outputs": []
    },
    {
      "cell_type": "markdown",
      "source": [
        "## ✅ Cell 3 — Dataset Preparation & Augmentation\n",
        "- Defines:\n",
        "  - Dataset directories and file paths.\n",
        "  - Image dimensions as **(224, 224)**.\n",
        "  - Batch size of **32**.\n",
        "  - Number of epochs: **20**.\n",
        "- **Training Generator**: Includes data augmentation for improved generalization.\n",
        "- **Validation & Test Generators**: Use only rescaling for accurate evaluation.\n"
      ],
      "metadata": {
        "id": "_VFAKCyw1nGd"
      }
    },
    {
      "cell_type": "code",
      "source": [
        "# Cell 3\n",
        "BASE_DIR = TARGET\n",
        "TRAIN_DIR = BASE_DIR + \"/train\"\n",
        "VAL_DIR = BASE_DIR + \"/val\"\n",
        "TEST_DIR = BASE_DIR + \"/test\"\n",
        "IMG_SIZE = (224, 224)\n",
        "BATCH_SIZE = 32\n",
        "EPOCHS = 20\n",
        "MODEL_PATH = \"/content/pneumonia_detector.h5\"\n",
        "\n",
        "train_gen = ImageDataGenerator(\n",
        "    rescale=1./255, rotation_range=20, zoom_range=0.2,\n",
        "    width_shift_range=0.2, height_shift_range=0.2,\n",
        "    horizontal_flip=True\n",
        ").flow_from_directory(TRAIN_DIR, target_size=IMG_SIZE, batch_size=BATCH_SIZE, class_mode=\"binary\")\n",
        "\n",
        "val_gen = ImageDataGenerator(rescale=1./255).flow_from_directory(\n",
        "    VAL_DIR, target_size=IMG_SIZE, batch_size=BATCH_SIZE, class_mode=\"binary\")\n",
        "\n",
        "test_gen = ImageDataGenerator(rescale=1./255).flow_from_directory(\n",
        "    TEST_DIR, target_size=IMG_SIZE, batch_size=BATCH_SIZE, class_mode=\"binary\", shuffle=False)"
      ],
      "metadata": {
        "colab": {
          "base_uri": "https://localhost:8080/"
        },
        "id": "sTgXcOvnscKE",
        "outputId": "6b7aa16d-2262-49fe-b99f-6565102c277f"
      },
      "execution_count": 3,
      "outputs": [
        {
          "output_type": "stream",
          "name": "stdout",
          "text": [
            "Found 5216 images belonging to 2 classes.\n",
            "Found 16 images belonging to 2 classes.\n",
            "Found 624 images belonging to 2 classes.\n"
          ]
        }
      ]
    },
    {
      "cell_type": "markdown",
      "source": [
        "## ✅ Cell 4 — Model Architecture & Training\n",
        "- Loads **DenseNet121** pretrained on **ImageNet** (excluding top classification layer).\n",
        "- Adds:\n",
        "  - `GlobalAveragePooling2D` for dimensionality reduction.\n",
        "  - `BatchNormalization` for stabilized training.\n",
        "  - `Dropout` layers to reduce overfitting.\n",
        "  - Dense layers for improved learning capacity.\n",
        "- **Compilation:**\n",
        "  - Optimizer: `Adam` (learning rate = 1e-4)\n",
        "  - Loss function: `binary_crossentropy`\n",
        "  - Metric: `accuracy`\n",
        "- Adds callbacks:\n",
        "  - **ModelCheckpoint**: Save best model weights.\n",
        "  - **EarlyStopping**: Stop training early if validation loss doesn’t improve.\n",
        "  - **ReduceLROnPlateau**: Reduce learning rate if validation loss stagnates.\n",
        "- Trains the model on the prepared dataset.\n"
      ],
      "metadata": {
        "id": "IzaIrXya1sFb"
      }
    },
    {
      "cell_type": "code",
      "source": [
        "# Cell 4\n",
        "backbone = DenseNet121(weights=\"imagenet\", include_top=False, input_shape=(*IMG_SIZE, 3))\n",
        "for layer in backbone.layers: layer.trainable = False\n",
        "\n",
        "x = GlobalAveragePooling2D()(backbone.output)\n",
        "x = BatchNormalization()(x)\n",
        "x = Dropout(0.4)(x)\n",
        "x = Dense(256, activation=\"relu\")(x)\n",
        "x = BatchNormalization()(x)\n",
        "x = Dropout(0.3)(x)\n",
        "out = Dense(1, activation=\"sigmoid\")(x)\n",
        "model = Model(inputs=backbone.input, outputs=out)\n",
        "model.compile(optimizer=tf.keras.optimizers.Adam(learning_rate=1e-4),\n",
        "              loss=\"binary_crossentropy\", metrics=[\"accuracy\"])\n",
        "\n",
        "cp = ModelCheckpoint(MODEL_PATH, monitor=\"val_accuracy\", save_best_only=True, verbose=1)\n",
        "es = EarlyStopping(monitor=\"val_loss\", patience=4, restore_best_weights=True, verbose=1)\n",
        "lr = ReduceLROnPlateau(monitor=\"val_loss\", factor=0.5, patience=2, verbose=1)\n",
        "\n",
        "history = model.fit(\n",
        "    train_gen,\n",
        "    validation_data=val_gen,\n",
        "    epochs=EPOCHS,\n",
        "    callbacks=[cp, es, lr]\n",
        ")\n"
      ],
      "metadata": {
        "colab": {
          "base_uri": "https://localhost:8080/"
        },
        "id": "5euGvynwscGY",
        "outputId": "5b94f304-a862-4225-d0b8-b349e13fbdb1"
      },
      "execution_count": 5,
      "outputs": [
        {
          "output_type": "stream",
          "name": "stdout",
          "text": [
            "Downloading data from https://storage.googleapis.com/tensorflow/keras-applications/densenet/densenet121_weights_tf_dim_ordering_tf_kernels_notop.h5\n",
            "\u001b[1m29084464/29084464\u001b[0m \u001b[32m━━━━━━━━━━━━━━━━━━━━\u001b[0m\u001b[37m\u001b[0m \u001b[1m0s\u001b[0m 0us/step\n"
          ]
        },
        {
          "output_type": "stream",
          "name": "stderr",
          "text": [
            "/usr/local/lib/python3.11/dist-packages/keras/src/trainers/data_adapters/py_dataset_adapter.py:121: UserWarning: Your `PyDataset` class should call `super().__init__(**kwargs)` in its constructor. `**kwargs` can include `workers`, `use_multiprocessing`, `max_queue_size`. Do not pass these arguments to `fit()`, as they will be ignored.\n",
            "  self._warn_if_super_not_called()\n"
          ]
        },
        {
          "output_type": "stream",
          "name": "stdout",
          "text": [
            "Epoch 1/20\n",
            "\u001b[1m163/163\u001b[0m \u001b[32m━━━━━━━━━━━━━━━━━━━━\u001b[0m\u001b[37m\u001b[0m \u001b[1m0s\u001b[0m 634ms/step - accuracy: 0.6902 - loss: 0.6474\n",
            "Epoch 1: val_accuracy improved from -inf to 0.75000, saving model to /content/pneumonia_detector.h5\n"
          ]
        },
        {
          "output_type": "stream",
          "name": "stderr",
          "text": [
            "WARNING:absl:You are saving your model as an HDF5 file via `model.save()` or `keras.saving.save_model(model)`. This file format is considered legacy. We recommend using instead the native Keras format, e.g. `model.save('my_model.keras')` or `keras.saving.save_model(model, 'my_model.keras')`. \n"
          ]
        },
        {
          "output_type": "stream",
          "name": "stdout",
          "text": [
            "\b\b\b\b\b\b\b\b\b\b\b\b\b\b\b\b\b\b\b\b\b\b\b\b\b\b\b\b\b\b\b\b\b\b\b\b\b\b\b\b\b\b\b\b\b\b\b\b\b\b\b\b\b\b\b\b\b\b\b\b\b\b\b\b\b\b\b\b\b\b\b\b\b\b\b\b\r\u001b[1m163/163\u001b[0m \u001b[32m━━━━━━━━━━━━━━━━━━━━\u001b[0m\u001b[37m\u001b[0m \u001b[1m154s\u001b[0m 741ms/step - accuracy: 0.6906 - loss: 0.6468 - val_accuracy: 0.7500 - val_loss: 0.5058 - learning_rate: 1.0000e-04\n",
            "Epoch 2/20\n",
            "\u001b[1m163/163\u001b[0m \u001b[32m━━━━━━━━━━━━━━━━━━━━\u001b[0m\u001b[37m\u001b[0m \u001b[1m0s\u001b[0m 626ms/step - accuracy: 0.8429 - loss: 0.3867\n",
            "Epoch 2: val_accuracy improved from 0.75000 to 0.81250, saving model to /content/pneumonia_detector.h5\n"
          ]
        },
        {
          "output_type": "stream",
          "name": "stderr",
          "text": [
            "WARNING:absl:You are saving your model as an HDF5 file via `model.save()` or `keras.saving.save_model(model)`. This file format is considered legacy. We recommend using instead the native Keras format, e.g. `model.save('my_model.keras')` or `keras.saving.save_model(model, 'my_model.keras')`. \n"
          ]
        },
        {
          "output_type": "stream",
          "name": "stdout",
          "text": [
            "\b\b\b\b\b\b\b\b\b\b\b\b\b\b\b\b\b\b\b\b\b\b\b\b\b\b\b\b\b\b\b\b\b\b\b\b\b\b\b\b\b\b\b\b\b\b\b\b\b\b\b\b\b\b\b\b\b\b\b\b\b\b\b\b\b\b\b\b\b\b\b\b\b\b\b\b\r\u001b[1m163/163\u001b[0m \u001b[32m━━━━━━━━━━━━━━━━━━━━\u001b[0m\u001b[37m\u001b[0m \u001b[1m105s\u001b[0m 633ms/step - accuracy: 0.8429 - loss: 0.3866 - val_accuracy: 0.8125 - val_loss: 0.4139 - learning_rate: 1.0000e-04\n",
            "Epoch 3/20\n",
            "\u001b[1m163/163\u001b[0m \u001b[32m━━━━━━━━━━━━━━━━━━━━\u001b[0m\u001b[37m\u001b[0m \u001b[1m0s\u001b[0m 623ms/step - accuracy: 0.8770 - loss: 0.3195\n",
            "Epoch 3: val_accuracy did not improve from 0.81250\n",
            "\u001b[1m163/163\u001b[0m \u001b[32m━━━━━━━━━━━━━━━━━━━━\u001b[0m\u001b[37m\u001b[0m \u001b[1m102s\u001b[0m 626ms/step - accuracy: 0.8770 - loss: 0.3195 - val_accuracy: 0.8125 - val_loss: 0.3683 - learning_rate: 1.0000e-04\n",
            "Epoch 4/20\n",
            "\u001b[1m163/163\u001b[0m \u001b[32m━━━━━━━━━━━━━━━━━━━━\u001b[0m\u001b[37m\u001b[0m \u001b[1m0s\u001b[0m 618ms/step - accuracy: 0.8951 - loss: 0.2969\n",
            "Epoch 4: val_accuracy did not improve from 0.81250\n",
            "\u001b[1m163/163\u001b[0m \u001b[32m━━━━━━━━━━━━━━━━━━━━\u001b[0m\u001b[37m\u001b[0m \u001b[1m141s\u001b[0m 619ms/step - accuracy: 0.8951 - loss: 0.2969 - val_accuracy: 0.8125 - val_loss: 0.3761 - learning_rate: 1.0000e-04\n",
            "Epoch 5/20\n",
            "\u001b[1m163/163\u001b[0m \u001b[32m━━━━━━━━━━━━━━━━━━━━\u001b[0m\u001b[37m\u001b[0m \u001b[1m0s\u001b[0m 614ms/step - accuracy: 0.9095 - loss: 0.2477\n",
            "Epoch 5: val_accuracy did not improve from 0.81250\n",
            "\u001b[1m163/163\u001b[0m \u001b[32m━━━━━━━━━━━━━━━━━━━━\u001b[0m\u001b[37m\u001b[0m \u001b[1m101s\u001b[0m 617ms/step - accuracy: 0.9095 - loss: 0.2478 - val_accuracy: 0.8125 - val_loss: 0.3481 - learning_rate: 1.0000e-04\n",
            "Epoch 6/20\n",
            "\u001b[1m163/163\u001b[0m \u001b[32m━━━━━━━━━━━━━━━━━━━━\u001b[0m\u001b[37m\u001b[0m \u001b[1m0s\u001b[0m 618ms/step - accuracy: 0.9170 - loss: 0.2266\n",
            "Epoch 6: val_accuracy did not improve from 0.81250\n",
            "\u001b[1m163/163\u001b[0m \u001b[32m━━━━━━━━━━━━━━━━━━━━\u001b[0m\u001b[37m\u001b[0m \u001b[1m101s\u001b[0m 619ms/step - accuracy: 0.9170 - loss: 0.2266 - val_accuracy: 0.8125 - val_loss: 0.3639 - learning_rate: 1.0000e-04\n",
            "Epoch 7/20\n",
            "\u001b[1m163/163\u001b[0m \u001b[32m━━━━━━━━━━━━━━━━━━━━\u001b[0m\u001b[37m\u001b[0m \u001b[1m0s\u001b[0m 635ms/step - accuracy: 0.9193 - loss: 0.2155\n",
            "Epoch 7: val_accuracy improved from 0.81250 to 0.87500, saving model to /content/pneumonia_detector.h5\n"
          ]
        },
        {
          "output_type": "stream",
          "name": "stderr",
          "text": [
            "WARNING:absl:You are saving your model as an HDF5 file via `model.save()` or `keras.saving.save_model(model)`. This file format is considered legacy. We recommend using instead the native Keras format, e.g. `model.save('my_model.keras')` or `keras.saving.save_model(model, 'my_model.keras')`. \n"
          ]
        },
        {
          "output_type": "stream",
          "name": "stdout",
          "text": [
            "\b\b\b\b\b\b\b\b\b\b\b\b\b\b\b\b\b\b\b\b\b\b\b\b\b\b\b\b\b\b\b\b\b\b\b\b\b\b\b\b\b\b\b\b\b\b\b\b\b\b\b\b\b\b\b\b\b\b\b\b\b\b\b\b\b\b\b\b\b\b\b\b\b\b\b\b\r\u001b[1m163/163\u001b[0m \u001b[32m━━━━━━━━━━━━━━━━━━━━\u001b[0m\u001b[37m\u001b[0m \u001b[1m105s\u001b[0m 642ms/step - accuracy: 0.9194 - loss: 0.2155 - val_accuracy: 0.8750 - val_loss: 0.3119 - learning_rate: 1.0000e-04\n",
            "Epoch 8/20\n",
            "\u001b[1m163/163\u001b[0m \u001b[32m━━━━━━━━━━━━━━━━━━━━\u001b[0m\u001b[37m\u001b[0m \u001b[1m0s\u001b[0m 616ms/step - accuracy: 0.9249 - loss: 0.2050\n",
            "Epoch 8: val_accuracy did not improve from 0.87500\n",
            "\u001b[1m163/163\u001b[0m \u001b[32m━━━━━━━━━━━━━━━━━━━━\u001b[0m\u001b[37m\u001b[0m \u001b[1m101s\u001b[0m 617ms/step - accuracy: 0.9249 - loss: 0.2051 - val_accuracy: 0.8125 - val_loss: 0.3164 - learning_rate: 1.0000e-04\n",
            "Epoch 9/20\n",
            "\u001b[1m163/163\u001b[0m \u001b[32m━━━━━━━━━━━━━━━━━━━━\u001b[0m\u001b[37m\u001b[0m \u001b[1m0s\u001b[0m 618ms/step - accuracy: 0.9220 - loss: 0.2060\n",
            "Epoch 9: val_accuracy did not improve from 0.87500\n",
            "\n",
            "Epoch 9: ReduceLROnPlateau reducing learning rate to 4.999999873689376e-05.\n",
            "\u001b[1m163/163\u001b[0m \u001b[32m━━━━━━━━━━━━━━━━━━━━\u001b[0m\u001b[37m\u001b[0m \u001b[1m142s\u001b[0m 620ms/step - accuracy: 0.9220 - loss: 0.2060 - val_accuracy: 0.8125 - val_loss: 0.3174 - learning_rate: 1.0000e-04\n",
            "Epoch 10/20\n",
            "\u001b[1m163/163\u001b[0m \u001b[32m━━━━━━━━━━━━━━━━━━━━\u001b[0m\u001b[37m\u001b[0m \u001b[1m0s\u001b[0m 630ms/step - accuracy: 0.9292 - loss: 0.2029\n",
            "Epoch 10: val_accuracy did not improve from 0.87500\n",
            "\u001b[1m163/163\u001b[0m \u001b[32m━━━━━━━━━━━━━━━━━━━━\u001b[0m\u001b[37m\u001b[0m \u001b[1m103s\u001b[0m 632ms/step - accuracy: 0.9292 - loss: 0.2028 - val_accuracy: 0.8125 - val_loss: 0.3189 - learning_rate: 5.0000e-05\n",
            "Epoch 11/20\n",
            "\u001b[1m163/163\u001b[0m \u001b[32m━━━━━━━━━━━━━━━━━━━━\u001b[0m\u001b[37m\u001b[0m \u001b[1m0s\u001b[0m 620ms/step - accuracy: 0.9340 - loss: 0.1786\n",
            "Epoch 11: val_accuracy did not improve from 0.87500\n",
            "\n",
            "Epoch 11: ReduceLROnPlateau reducing learning rate to 2.499999936844688e-05.\n",
            "\u001b[1m163/163\u001b[0m \u001b[32m━━━━━━━━━━━━━━━━━━━━\u001b[0m\u001b[37m\u001b[0m \u001b[1m140s\u001b[0m 621ms/step - accuracy: 0.9340 - loss: 0.1786 - val_accuracy: 0.8750 - val_loss: 0.3122 - learning_rate: 5.0000e-05\n",
            "Epoch 11: early stopping\n",
            "Restoring model weights from the end of the best epoch: 7.\n"
          ]
        }
      ]
    },
    {
      "cell_type": "markdown",
      "source": [
        "## ✅ Cell 5 — Training Visualization & Evaluation\n",
        "- Plots **Training vs Validation Accuracy** graph to visualize model performance over epochs.\n",
        "- Evaluates model on the **test dataset** to compute **final test accuracy**.\n"
      ],
      "metadata": {
        "id": "5a_mnYEx1xqJ"
      }
    },
    {
      "cell_type": "code",
      "source": [
        "# Cell 5\n",
        "plt.figure(figsize=(8,4))\n",
        "plt.plot(history.history[\"accuracy\"], label=\"Train Acc\")\n",
        "plt.plot(history.history[\"val_accuracy\"], label=\"Val Acc\")\n",
        "plt.title(\"Accuracy over Epochs\")\n",
        "plt.xlabel(\"Epoch\"); plt.ylabel(\"Accuracy\")\n",
        "plt.legend(); plt.show()\n",
        "\n",
        "loss, acc = model.evaluate(test_gen)\n",
        "print(f\"Test Accuracy: {acc * 100:.2f}%\")\n"
      ],
      "metadata": {
        "id": "Nlsf9o2tscEH",
        "colab": {
          "base_uri": "https://localhost:8080/",
          "height": 446
        },
        "outputId": "8d61e22b-7ea3-4755-af22-9c30debcd72b"
      },
      "execution_count": 6,
      "outputs": [
        {
          "output_type": "display_data",
          "data": {
            "text/plain": [
              "<Figure size 800x400 with 1 Axes>"
            ],
            "image/png": "[encoded data removed]"
          },
          "metadata": {}
        },
        {
          "output_type": "stream",
          "name": "stdout",
          "text": [
            "\u001b[1m20/20\u001b[0m \u001b[32m━━━━━━━━━━━━━━━━━━━━\u001b[0m\u001b[37m\u001b[0m \u001b[1m11s\u001b[0m 225ms/step - accuracy: 0.8987 - loss: 0.2482\n",
            "Test Accuracy: 91.51%\n"
          ]
        }
      ]
    },
    {
      "cell_type": "markdown",
      "source": [
        "## ✅ Cell 6 — Prediction Function (Local Files)\n",
        "- Defines the `predict_image()` function for:\n",
        "  - Loading local image files.\n",
        "  - Making predictions.\n",
        "  - Returning:\n",
        "    - Predicted label (`PNEUMONIA` or `NORMAL`).\n",
        "    - Prediction confidence score.\n"
      ],
      "metadata": {
        "id": "eFZgqivb12lg"
      }
    },
    {
      "cell_type": "code",
      "source": [
        "# Cell 6\n",
        "from tensorflow.keras.preprocessing import image\n",
        "\n",
        "def predict_image(img_path):\n",
        "    img = image.load_img(img_path, target_size=IMG_SIZE)\n",
        "    arr = image.img_to_array(img) / 255.0\n",
        "    pred = model.predict(np.expand_dims(arr,0))[0][0]\n",
        "    label = \"PNEUMONIA\" if pred > 0.5 else \"NORMAL\"\n",
        "    conf  = pred if pred > 0.5 else 1 - pred\n",
        "    return label, float(conf)\n",
        "\n"
      ],
      "metadata": {
        "id": "0WdkCv2mscBu"
      },
      "execution_count": 7,
      "outputs": []
    },
    {
      "cell_type": "markdown",
      "source": [
        "## ✅ Cell 7 — Gradio Interface (Web App)\n",
        "- Defines the **Gradio** interface:\n",
        "  - Accepts image uploads.\n",
        "  - Returns prediction probabilities for **PNEUMONIA** or **NORMAL**.\n",
        "- Launches a **public URL** using `share=True` for easy access and demonstration.\n",
        "\n",
        "## 🚀 Final Outcome\n",
        "✅ Real-time, web-based **Pneumonia Detection System**  \n",
        "✅ Public shareable link for easy deployment and demonstration"
      ],
      "metadata": {
        "id": "XDyS9Ahf155n"
      }
    },
    {
      "cell_type": "code",
      "source": [
        "# Cell 7\n",
        "def gradio_predict(img):\n",
        "    img = img.convert(\"RGB\").resize(IMG_SIZE)\n",
        "    arr = np.array(img)/255.0\n",
        "    p = model.predict(np.expand_dims(arr,0))[0][0]\n",
        "    return {\"PNEUMONIA\": float(p), \"NORMAL\": float(1-p)}\n",
        "\n",
        "demo = gr.Interface(\n",
        "    fn=gradio_predict,\n",
        "    inputs=gr.Image(type=\"pil\"),\n",
        "    outputs=gr.Label(num_top_classes=2),\n",
        "    title=\"Pneumonia Detection\",\n",
        "    description=\"Upload a chest X-ray to detect pneumonia.\"\n",
        ")\n",
        "\n",
        "demo.launch(share=True)\n"
      ],
      "metadata": {
        "id": "nEzUTPMSsb_S",
        "colab": {
          "base_uri": "https://localhost:8080/",
          "height": 613
        },
        "outputId": "fb98cd19-ced9-4751-f103-400ccf25fd65"
      },
      "execution_count": 8,
      "outputs": [
        {
          "output_type": "stream",
          "name": "stdout",
          "text": [
            "Colab notebook detected. To show errors in colab notebook, set debug=True in launch()\n",
            "* Running on public URL: https://58dc080cdf0efd0221.gradio.live\n",
            "\n",
            "This share link expires in 1 week. For free permanent hosting and GPU upgrades, run `gradio deploy` from the terminal in the working directory to deploy to Hugging Face Spaces (https://huggingface.co/spaces)\n"
          ]
        },
        {
          "output_type": "display_data",
          "data": {
            "text/plain": [
              "<IPython.core.display.HTML object>"
            ],
            "text/html": [
              "<div><iframe src=\"https://58dc080cdf0efd0221.gradio.live\" width=\"100%\" height=\"500\" allow=\"autoplay; camera; microphone; clipboard-read; clipboard-write;\" frameborder=\"0\" allowfullscreen></iframe></div>"
            ]
          },
          "metadata": {}
        },
        {
          "output_type": "execute_result",
          "data": {
            "text/plain": []
          },
          "metadata": {},
          "execution_count": 8
        }
      ]
    },
    {
      "cell_type": "code",
      "source": [],
      "metadata": {
        "id": "5g957WuOsb8h"
      },
      "execution_count": null,
      "outputs": []
    }
  ]
}